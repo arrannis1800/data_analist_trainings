{
 "cells": [
  {
   "cell_type": "code",
   "execution_count": 3,
   "id": "f0fe3084-4bff-40bd-adcb-5a0824e0d92b",
   "metadata": {},
   "outputs": [],
   "source": [
    "import pandas as np\n",
    "import pandahouse as ph\n",
    "import statsmodels.api as sm\n",
    "import numpy as np\n",
    "import matplotlib.pyplot as plt\n",
    "from statsmodels.graphics.gofplots import qqplot_2samples\n",
    "from scipy import stats\n",
    "import seaborn as sns"
   ]
  },
  {
   "cell_type": "code",
   "execution_count": 4,
   "id": "f42f00ff-1298-4c90-86e4-39731b8691a0",
   "metadata": {
    "tags": []
   },
   "outputs": [],
   "source": [
    "connection = {'host': 'http://clickhouse.beslan.pro:8080',\n",
    "                      'database':'simulator',\n",
    "                      'user':'student', \n",
    "                      'password':'dpo_python_2020'\n",
    "                     }"
   ]
  },
  {
   "cell_type": "code",
   "execution_count": 55,
   "id": "4788733f-d586-48fe-a0aa-f3e3009709ee",
   "metadata": {},
   "outputs": [],
   "source": [
    "query = '''\n",
    "SELECT post_id,\n",
    "       time,\n",
    "       user_id,\n",
    "       action\n",
    "FROM {db}.feed_actions\n",
    "WHERE (toDate(time) = today()-1) and action = 'view'\n",
    "'''"
   ]
  },
  {
   "cell_type": "code",
   "execution_count": 56,
   "id": "9d80d9d9-1342-4554-81cc-c2f05f1b8142",
   "metadata": {},
   "outputs": [
    {
     "data": {
      "text/html": [
       "<div>\n",
       "<style scoped>\n",
       "    .dataframe tbody tr th:only-of-type {\n",
       "        vertical-align: middle;\n",
       "    }\n",
       "\n",
       "    .dataframe tbody tr th {\n",
       "        vertical-align: top;\n",
       "    }\n",
       "\n",
       "    .dataframe thead th {\n",
       "        text-align: right;\n",
       "    }\n",
       "</style>\n",
       "<table border=\"1\" class=\"dataframe\">\n",
       "  <thead>\n",
       "    <tr style=\"text-align: right;\">\n",
       "      <th></th>\n",
       "      <th>post_id</th>\n",
       "      <th>time</th>\n",
       "      <th>user_id</th>\n",
       "      <th>action</th>\n",
       "    </tr>\n",
       "  </thead>\n",
       "  <tbody>\n",
       "    <tr>\n",
       "      <th>0</th>\n",
       "      <td>2510</td>\n",
       "      <td>2021-11-24 19:38:37</td>\n",
       "      <td>15087</td>\n",
       "      <td>view</td>\n",
       "    </tr>\n",
       "    <tr>\n",
       "      <th>1</th>\n",
       "      <td>2687</td>\n",
       "      <td>2021-11-24 19:38:37</td>\n",
       "      <td>20758</td>\n",
       "      <td>view</td>\n",
       "    </tr>\n",
       "    <tr>\n",
       "      <th>2</th>\n",
       "      <td>2635</td>\n",
       "      <td>2021-11-24 19:38:37</td>\n",
       "      <td>23464</td>\n",
       "      <td>view</td>\n",
       "    </tr>\n",
       "    <tr>\n",
       "      <th>3</th>\n",
       "      <td>2807</td>\n",
       "      <td>2021-11-24 19:38:37</td>\n",
       "      <td>25762</td>\n",
       "      <td>view</td>\n",
       "    </tr>\n",
       "    <tr>\n",
       "      <th>4</th>\n",
       "      <td>2510</td>\n",
       "      <td>2021-11-24 19:38:37</td>\n",
       "      <td>33510</td>\n",
       "      <td>view</td>\n",
       "    </tr>\n",
       "    <tr>\n",
       "      <th>...</th>\n",
       "      <td>...</td>\n",
       "      <td>...</td>\n",
       "      <td>...</td>\n",
       "      <td>...</td>\n",
       "    </tr>\n",
       "    <tr>\n",
       "      <th>637799</th>\n",
       "      <td>2685</td>\n",
       "      <td>2021-11-24 23:59:58</td>\n",
       "      <td>35871</td>\n",
       "      <td>view</td>\n",
       "    </tr>\n",
       "    <tr>\n",
       "      <th>637800</th>\n",
       "      <td>2742</td>\n",
       "      <td>2021-11-24 23:59:58</td>\n",
       "      <td>137732</td>\n",
       "      <td>view</td>\n",
       "    </tr>\n",
       "    <tr>\n",
       "      <th>637801</th>\n",
       "      <td>2723</td>\n",
       "      <td>2021-11-24 23:59:59</td>\n",
       "      <td>33285</td>\n",
       "      <td>view</td>\n",
       "    </tr>\n",
       "    <tr>\n",
       "      <th>637802</th>\n",
       "      <td>2786</td>\n",
       "      <td>2021-11-24 23:59:59</td>\n",
       "      <td>35922</td>\n",
       "      <td>view</td>\n",
       "    </tr>\n",
       "    <tr>\n",
       "      <th>637803</th>\n",
       "      <td>2564</td>\n",
       "      <td>2021-11-24 23:59:59</td>\n",
       "      <td>122902</td>\n",
       "      <td>view</td>\n",
       "    </tr>\n",
       "  </tbody>\n",
       "</table>\n",
       "<p>637804 rows × 4 columns</p>\n",
       "</div>"
      ],
      "text/plain": [
       "        post_id                time  user_id action\n",
       "0          2510 2021-11-24 19:38:37    15087   view\n",
       "1          2687 2021-11-24 19:38:37    20758   view\n",
       "2          2635 2021-11-24 19:38:37    23464   view\n",
       "3          2807 2021-11-24 19:38:37    25762   view\n",
       "4          2510 2021-11-24 19:38:37    33510   view\n",
       "...         ...                 ...      ...    ...\n",
       "637799     2685 2021-11-24 23:59:58    35871   view\n",
       "637800     2742 2021-11-24 23:59:58   137732   view\n",
       "637801     2723 2021-11-24 23:59:59    33285   view\n",
       "637802     2786 2021-11-24 23:59:59    35922   view\n",
       "637803     2564 2021-11-24 23:59:59   122902   view\n",
       "\n",
       "[637804 rows x 4 columns]"
      ]
     },
     "execution_count": 56,
     "metadata": {},
     "output_type": "execute_result"
    }
   ],
   "source": [
    "df = ph.read_clickhouse(query, connection=connection)\n",
    "df"
   ]
  },
  {
   "cell_type": "code",
   "execution_count": 57,
   "id": "5ea8c623-68e8-439b-98e7-ab88f39c2861",
   "metadata": {},
   "outputs": [],
   "source": [
    "df_unique_post = df[['post_id','time','action']]"
   ]
  },
  {
   "cell_type": "code",
   "execution_count": 60,
   "id": "aaad8c0b-4310-4823-9e1f-066eb1b78585",
   "metadata": {},
   "outputs": [
    {
     "ename": "SyntaxError",
     "evalue": "invalid syntax (1795385332.py, line 1)",
     "output_type": "error",
     "traceback": [
      "\u001b[0;36m  File \u001b[0;32m\"/tmp/ipykernel_63/1795385332.py\"\u001b[0;36m, line \u001b[0;32m1\u001b[0m\n\u001b[0;31m    df_unique_post = df_unique_post.merge(df_unique_post.groupby('post_id', as_index=False)./\u001b[0m\n\u001b[0m                                                                                            ^\u001b[0m\n\u001b[0;31mSyntaxError\u001b[0m\u001b[0;31m:\u001b[0m invalid syntax\n"
     ]
    }
   ],
   "source": [
    "df_unique_post = df_unique_post.merge(df_unique_post.groupby('post_id', as_index=False).min().drop('action', axis=1),left_on='post_id', right_on='post_id',how='left').rename(columns={'time_x':'time','time_y':'min_time'})"
   ]
  },
  {
   "cell_type": "code",
   "execution_count": 32,
   "id": "39ed5d20-595b-41e2-a8cf-c81dedf9c9a3",
   "metadata": {},
   "outputs": [
    {
     "data": {
      "text/html": [
       "<div>\n",
       "<style scoped>\n",
       "    .dataframe tbody tr th:only-of-type {\n",
       "        vertical-align: middle;\n",
       "    }\n",
       "\n",
       "    .dataframe tbody tr th {\n",
       "        vertical-align: top;\n",
       "    }\n",
       "\n",
       "    .dataframe thead th {\n",
       "        text-align: right;\n",
       "    }\n",
       "</style>\n",
       "<table border=\"1\" class=\"dataframe\">\n",
       "  <thead>\n",
       "    <tr style=\"text-align: right;\">\n",
       "      <th></th>\n",
       "      <th>post_id</th>\n",
       "      <th>time</th>\n",
       "      <th>action</th>\n",
       "      <th>min_time</th>\n",
       "    </tr>\n",
       "  </thead>\n",
       "  <tbody>\n",
       "    <tr>\n",
       "      <th>0</th>\n",
       "      <td>2510</td>\n",
       "      <td>2021-11-24 19:38:37</td>\n",
       "      <td>view</td>\n",
       "      <td>2021-11-24 00:00:07</td>\n",
       "    </tr>\n",
       "    <tr>\n",
       "      <th>1</th>\n",
       "      <td>2687</td>\n",
       "      <td>2021-11-24 19:38:37</td>\n",
       "      <td>view</td>\n",
       "      <td>2021-11-24 00:00:08</td>\n",
       "    </tr>\n",
       "    <tr>\n",
       "      <th>2</th>\n",
       "      <td>2635</td>\n",
       "      <td>2021-11-24 19:38:37</td>\n",
       "      <td>view</td>\n",
       "      <td>2021-11-24 00:00:07</td>\n",
       "    </tr>\n",
       "    <tr>\n",
       "      <th>3</th>\n",
       "      <td>2807</td>\n",
       "      <td>2021-11-24 19:38:37</td>\n",
       "      <td>view</td>\n",
       "      <td>2021-11-24 15:54:52</td>\n",
       "    </tr>\n",
       "    <tr>\n",
       "      <th>4</th>\n",
       "      <td>2510</td>\n",
       "      <td>2021-11-24 19:38:37</td>\n",
       "      <td>view</td>\n",
       "      <td>2021-11-24 00:00:07</td>\n",
       "    </tr>\n",
       "  </tbody>\n",
       "</table>\n",
       "</div>"
      ],
      "text/plain": [
       "   post_id                time action            min_time\n",
       "0     2510 2021-11-24 19:38:37   view 2021-11-24 00:00:07\n",
       "1     2687 2021-11-24 19:38:37   view 2021-11-24 00:00:08\n",
       "2     2635 2021-11-24 19:38:37   view 2021-11-24 00:00:07\n",
       "3     2807 2021-11-24 19:38:37   view 2021-11-24 15:54:52\n",
       "4     2510 2021-11-24 19:38:37   view 2021-11-24 00:00:07"
      ]
     },
     "execution_count": 32,
     "metadata": {},
     "output_type": "execute_result"
    }
   ],
   "source": [
    "df_unique_post.head()"
   ]
  },
  {
   "cell_type": "code",
   "execution_count": 44,
   "id": "a8d29279-096a-4eda-a156-cc228a5398fd",
   "metadata": {},
   "outputs": [],
   "source": [
    "df_unique_post['lifetime'] = (df_unique_post.time - df_unique_post.min_time).apply(lambda x: x.seconds)"
   ]
  },
  {
   "cell_type": "code",
   "execution_count": 46,
   "id": "c34b868e-25a4-4dd0-9e32-e9563175ceee",
   "metadata": {},
   "outputs": [
    {
     "data": {
      "text/html": [
       "<div>\n",
       "<style scoped>\n",
       "    .dataframe tbody tr th:only-of-type {\n",
       "        vertical-align: middle;\n",
       "    }\n",
       "\n",
       "    .dataframe tbody tr th {\n",
       "        vertical-align: top;\n",
       "    }\n",
       "\n",
       "    .dataframe thead th {\n",
       "        text-align: right;\n",
       "    }\n",
       "</style>\n",
       "<table border=\"1\" class=\"dataframe\">\n",
       "  <thead>\n",
       "    <tr style=\"text-align: right;\">\n",
       "      <th></th>\n",
       "      <th>post_id</th>\n",
       "      <th>time</th>\n",
       "      <th>action</th>\n",
       "      <th>min_time</th>\n",
       "      <th>lifetime</th>\n",
       "    </tr>\n",
       "  </thead>\n",
       "  <tbody>\n",
       "    <tr>\n",
       "      <th>0</th>\n",
       "      <td>2510</td>\n",
       "      <td>2021-11-24 19:38:37</td>\n",
       "      <td>view</td>\n",
       "      <td>2021-11-24 00:00:07</td>\n",
       "      <td>70710</td>\n",
       "    </tr>\n",
       "    <tr>\n",
       "      <th>1</th>\n",
       "      <td>2687</td>\n",
       "      <td>2021-11-24 19:38:37</td>\n",
       "      <td>view</td>\n",
       "      <td>2021-11-24 00:00:08</td>\n",
       "      <td>70709</td>\n",
       "    </tr>\n",
       "    <tr>\n",
       "      <th>2</th>\n",
       "      <td>2635</td>\n",
       "      <td>2021-11-24 19:38:37</td>\n",
       "      <td>view</td>\n",
       "      <td>2021-11-24 00:00:07</td>\n",
       "      <td>70710</td>\n",
       "    </tr>\n",
       "    <tr>\n",
       "      <th>3</th>\n",
       "      <td>2807</td>\n",
       "      <td>2021-11-24 19:38:37</td>\n",
       "      <td>view</td>\n",
       "      <td>2021-11-24 15:54:52</td>\n",
       "      <td>13425</td>\n",
       "    </tr>\n",
       "    <tr>\n",
       "      <th>4</th>\n",
       "      <td>2510</td>\n",
       "      <td>2021-11-24 19:38:37</td>\n",
       "      <td>view</td>\n",
       "      <td>2021-11-24 00:00:07</td>\n",
       "      <td>70710</td>\n",
       "    </tr>\n",
       "  </tbody>\n",
       "</table>\n",
       "</div>"
      ],
      "text/plain": [
       "   post_id                time action            min_time  lifetime\n",
       "0     2510 2021-11-24 19:38:37   view 2021-11-24 00:00:07     70710\n",
       "1     2687 2021-11-24 19:38:37   view 2021-11-24 00:00:08     70709\n",
       "2     2635 2021-11-24 19:38:37   view 2021-11-24 00:00:07     70710\n",
       "3     2807 2021-11-24 19:38:37   view 2021-11-24 15:54:52     13425\n",
       "4     2510 2021-11-24 19:38:37   view 2021-11-24 00:00:07     70710"
      ]
     },
     "execution_count": 46,
     "metadata": {},
     "output_type": "execute_result"
    }
   ],
   "source": [
    "df_unique_post.head()"
   ]
  },
  {
   "cell_type": "code",
   "execution_count": 48,
   "id": "8d90a567-b749-4712-a74c-5acc7946faa5",
   "metadata": {},
   "outputs": [
    {
     "data": {
      "text/plain": [
       "array([[<AxesSubplot:title={'center':'lifetime'}>]], dtype=object)"
      ]
     },
     "execution_count": 48,
     "metadata": {},
     "output_type": "execute_result"
    },
    {
     "data": {
      "image/png": "[encoded data removed]",
      "text/plain": [
       "<Figure size 432x288 with 1 Axes>"
      ]
     },
     "metadata": {
      "needs_background": "light"
     },
     "output_type": "display_data"
    }
   ],
   "source": [
    "df_unique_post.hist('lifetime')"
   ]
  },
  {
   "cell_type": "code",
   "execution_count": null,
   "id": "28c6cf3a-b40e-4171-a1aa-12080907ddc1",
   "metadata": {},
   "outputs": [],
   "source": []
  }
 ],
 "metadata": {
  "kernelspec": {
   "display_name": "Python 3 (ipykernel)",
   "language": "python",
   "name": "python3"
  },
  "language_info": {
   "codemirror_mode": {
    "name": "ipython",
    "version": 3
   },
   "file_extension": ".py",
   "mimetype": "text/x-python",
   "name": "python",
   "nbconvert_exporter": "python",
   "pygments_lexer": "ipython3",
   "version": "3.8.10"
  }
 },
 "nbformat": 4,
 "nbformat_minor": 5
}
