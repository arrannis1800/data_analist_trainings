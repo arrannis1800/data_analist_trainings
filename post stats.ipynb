{
 "cells": [
  {
   "cell_type": "code",
   "execution_count": 1,
   "id": "f0fe3084-4bff-40bd-adcb-5a0824e0d92b",
   "metadata": {},
   "outputs": [],
   "source": [
    "import pandas as np\n",
    "import pandahouse as ph\n",
    "import statsmodels.api as sm\n",
    "import numpy as np\n",
    "import matplotlib.pyplot as plt\n",
    "from statsmodels.graphics.gofplots import qqplot_2samples\n",
    "from scipy import stats\n",
    "import seaborn as sns"
   ]
  },
  {
   "cell_type": "markdown",
   "id": "5a75d3c9-403b-4403-9cb7-4d3c818765c4",
   "metadata": {},
   "source": [
    "присоединяемся к базе данных и отправляем запрос"
   ]
  },
  {
   "cell_type": "code",
   "execution_count": 2,
   "id": "f42f00ff-1298-4c90-86e4-39731b8691a0",
   "metadata": {
    "tags": []
   },
   "outputs": [],
   "source": [
    "connection = {'host': 'http://clickhouse.beslan.pro:8080',\n",
    "                      'database':'simulator',\n",
    "                      'user':'student', \n",
    "                      'password':'dpo_python_2020'\n",
    "                     }"
   ]
  },
  {
   "cell_type": "code",
   "execution_count": 3,
   "id": "4788733f-d586-48fe-a0aa-f3e3009709ee",
   "metadata": {},
   "outputs": [],
   "source": [
    "query = '''\n",
    "SELECT post_id,\n",
    "       time,\n",
    "       user_id,\n",
    "       action\n",
    "FROM {db}.feed_actions\n",
    "WHERE (toDate(time) > today()-7) and action = 'view'\n",
    "'''"
   ]
  },
  {
   "cell_type": "code",
   "execution_count": 4,
   "id": "9d80d9d9-1342-4554-81cc-c2f05f1b8142",
   "metadata": {},
   "outputs": [
    {
     "data": {
      "text/html": [
       "<div>\n",
       "<style scoped>\n",
       "    .dataframe tbody tr th:only-of-type {\n",
       "        vertical-align: middle;\n",
       "    }\n",
       "\n",
       "    .dataframe tbody tr th {\n",
       "        vertical-align: top;\n",
       "    }\n",
       "\n",
       "    .dataframe thead th {\n",
       "        text-align: right;\n",
       "    }\n",
       "</style>\n",
       "<table border=\"1\" class=\"dataframe\">\n",
       "  <thead>\n",
       "    <tr style=\"text-align: right;\">\n",
       "      <th></th>\n",
       "      <th>post_id</th>\n",
       "      <th>time</th>\n",
       "      <th>user_id</th>\n",
       "      <th>action</th>\n",
       "    </tr>\n",
       "  </thead>\n",
       "  <tbody>\n",
       "    <tr>\n",
       "      <th>0</th>\n",
       "      <td>2530</td>\n",
       "      <td>2021-11-22 23:23:21</td>\n",
       "      <td>120095</td>\n",
       "      <td>view</td>\n",
       "    </tr>\n",
       "    <tr>\n",
       "      <th>1</th>\n",
       "      <td>2501</td>\n",
       "      <td>2021-11-22 23:23:21</td>\n",
       "      <td>127191</td>\n",
       "      <td>view</td>\n",
       "    </tr>\n",
       "    <tr>\n",
       "      <th>2</th>\n",
       "      <td>2594</td>\n",
       "      <td>2021-11-22 23:23:21</td>\n",
       "      <td>128836</td>\n",
       "      <td>view</td>\n",
       "    </tr>\n",
       "    <tr>\n",
       "      <th>3</th>\n",
       "      <td>2531</td>\n",
       "      <td>2021-11-22 23:23:21</td>\n",
       "      <td>133911</td>\n",
       "      <td>view</td>\n",
       "    </tr>\n",
       "    <tr>\n",
       "      <th>4</th>\n",
       "      <td>2616</td>\n",
       "      <td>2021-11-22 23:23:21</td>\n",
       "      <td>136841</td>\n",
       "      <td>view</td>\n",
       "    </tr>\n",
       "    <tr>\n",
       "      <th>...</th>\n",
       "      <td>...</td>\n",
       "      <td>...</td>\n",
       "      <td>...</td>\n",
       "      <td>...</td>\n",
       "    </tr>\n",
       "    <tr>\n",
       "      <th>3842983</th>\n",
       "      <td>2510</td>\n",
       "      <td>2021-11-22 23:23:21</td>\n",
       "      <td>30551</td>\n",
       "      <td>view</td>\n",
       "    </tr>\n",
       "    <tr>\n",
       "      <th>3842984</th>\n",
       "      <td>2329</td>\n",
       "      <td>2021-11-22 23:23:21</td>\n",
       "      <td>31483</td>\n",
       "      <td>view</td>\n",
       "    </tr>\n",
       "    <tr>\n",
       "      <th>3842985</th>\n",
       "      <td>2520</td>\n",
       "      <td>2021-11-22 23:23:21</td>\n",
       "      <td>31483</td>\n",
       "      <td>view</td>\n",
       "    </tr>\n",
       "    <tr>\n",
       "      <th>3842986</th>\n",
       "      <td>2569</td>\n",
       "      <td>2021-11-22 23:23:21</td>\n",
       "      <td>34231</td>\n",
       "      <td>view</td>\n",
       "    </tr>\n",
       "    <tr>\n",
       "      <th>3842987</th>\n",
       "      <td>2454</td>\n",
       "      <td>2021-11-22 23:23:21</td>\n",
       "      <td>110344</td>\n",
       "      <td>view</td>\n",
       "    </tr>\n",
       "  </tbody>\n",
       "</table>\n",
       "<p>3842988 rows × 4 columns</p>\n",
       "</div>"
      ],
      "text/plain": [
       "         post_id                time  user_id action\n",
       "0           2530 2021-11-22 23:23:21   120095   view\n",
       "1           2501 2021-11-22 23:23:21   127191   view\n",
       "2           2594 2021-11-22 23:23:21   128836   view\n",
       "3           2531 2021-11-22 23:23:21   133911   view\n",
       "4           2616 2021-11-22 23:23:21   136841   view\n",
       "...          ...                 ...      ...    ...\n",
       "3842983     2510 2021-11-22 23:23:21    30551   view\n",
       "3842984     2329 2021-11-22 23:23:21    31483   view\n",
       "3842985     2520 2021-11-22 23:23:21    31483   view\n",
       "3842986     2569 2021-11-22 23:23:21    34231   view\n",
       "3842987     2454 2021-11-22 23:23:21   110344   view\n",
       "\n",
       "[3842988 rows x 4 columns]"
      ]
     },
     "execution_count": 4,
     "metadata": {},
     "output_type": "execute_result"
    }
   ],
   "source": [
    "df = ph.read_clickhouse(query, connection=connection)\n",
    "df"
   ]
  },
  {
   "cell_type": "markdown",
   "id": "b7d45aa5-45d5-410a-b68f-6dc8ce4a0e44",
   "metadata": {},
   "source": [
    "создаем новую табличку только с нужными нам полями"
   ]
  },
  {
   "cell_type": "code",
   "execution_count": 5,
   "id": "5ea8c623-68e8-439b-98e7-ab88f39c2861",
   "metadata": {},
   "outputs": [],
   "source": [
    "df_unique_post = df[['post_id','time','action']]"
   ]
  },
  {
   "cell_type": "markdown",
   "id": "a2850e37-9594-433f-b31c-04de7c588b05",
   "metadata": {},
   "source": [
    "добавляем колонку с временем, когда пост появился первый раз"
   ]
  },
  {
   "cell_type": "code",
   "execution_count": 6,
   "id": "aaad8c0b-4310-4823-9e1f-066eb1b78585",
   "metadata": {},
   "outputs": [],
   "source": [
    "df_unique_post = df_unique_post.merge(df_unique_post.groupby('post_id', as_index=False)\\\n",
    "                                      .min().drop('action', axis=1),left_on='post_id', right_on='post_id',how='left')\\\n",
    "                                        .rename(columns={'time_x':'time','time_y':'min_time'})"
   ]
  },
  {
   "cell_type": "code",
   "execution_count": 7,
   "id": "39ed5d20-595b-41e2-a8cf-c81dedf9c9a3",
   "metadata": {},
   "outputs": [
    {
     "data": {
      "text/html": [
       "<div>\n",
       "<style scoped>\n",
       "    .dataframe tbody tr th:only-of-type {\n",
       "        vertical-align: middle;\n",
       "    }\n",
       "\n",
       "    .dataframe tbody tr th {\n",
       "        vertical-align: top;\n",
       "    }\n",
       "\n",
       "    .dataframe thead th {\n",
       "        text-align: right;\n",
       "    }\n",
       "</style>\n",
       "<table border=\"1\" class=\"dataframe\">\n",
       "  <thead>\n",
       "    <tr style=\"text-align: right;\">\n",
       "      <th></th>\n",
       "      <th>post_id</th>\n",
       "      <th>time</th>\n",
       "      <th>action</th>\n",
       "      <th>min_time</th>\n",
       "    </tr>\n",
       "  </thead>\n",
       "  <tbody>\n",
       "    <tr>\n",
       "      <th>0</th>\n",
       "      <td>2530</td>\n",
       "      <td>2021-11-22 23:23:21</td>\n",
       "      <td>view</td>\n",
       "      <td>2021-11-21 23:40:07</td>\n",
       "    </tr>\n",
       "    <tr>\n",
       "      <th>1</th>\n",
       "      <td>2501</td>\n",
       "      <td>2021-11-22 23:23:21</td>\n",
       "      <td>view</td>\n",
       "      <td>2021-11-21 00:00:15</td>\n",
       "    </tr>\n",
       "    <tr>\n",
       "      <th>2</th>\n",
       "      <td>2594</td>\n",
       "      <td>2021-11-22 23:23:21</td>\n",
       "      <td>view</td>\n",
       "      <td>2021-11-22 17:03:51</td>\n",
       "    </tr>\n",
       "    <tr>\n",
       "      <th>3</th>\n",
       "      <td>2531</td>\n",
       "      <td>2021-11-22 23:23:21</td>\n",
       "      <td>view</td>\n",
       "      <td>2021-11-21 23:18:42</td>\n",
       "    </tr>\n",
       "    <tr>\n",
       "      <th>4</th>\n",
       "      <td>2616</td>\n",
       "      <td>2021-11-22 23:23:21</td>\n",
       "      <td>view</td>\n",
       "      <td>2021-11-22 22:45:00</td>\n",
       "    </tr>\n",
       "  </tbody>\n",
       "</table>\n",
       "</div>"
      ],
      "text/plain": [
       "   post_id                time action            min_time\n",
       "0     2530 2021-11-22 23:23:21   view 2021-11-21 23:40:07\n",
       "1     2501 2021-11-22 23:23:21   view 2021-11-21 00:00:15\n",
       "2     2594 2021-11-22 23:23:21   view 2021-11-22 17:03:51\n",
       "3     2531 2021-11-22 23:23:21   view 2021-11-21 23:18:42\n",
       "4     2616 2021-11-22 23:23:21   view 2021-11-22 22:45:00"
      ]
     },
     "execution_count": 7,
     "metadata": {},
     "output_type": "execute_result"
    }
   ],
   "source": [
    "df_unique_post.head()"
   ]
  },
  {
   "cell_type": "markdown",
   "id": "886a4f65-69ea-4102-a11a-394a454e4185",
   "metadata": {},
   "source": [
    "переводим дельтатайм в секунды"
   ]
  },
  {
   "cell_type": "code",
   "execution_count": 8,
   "id": "a8d29279-096a-4eda-a156-cc228a5398fd",
   "metadata": {},
   "outputs": [],
   "source": [
    "df_unique_post['lifetime'] = (df_unique_post.time - df_unique_post.min_time).apply(lambda x: x.total_seconds())"
   ]
  },
  {
   "cell_type": "code",
   "execution_count": 9,
   "id": "c34b868e-25a4-4dd0-9e32-e9563175ceee",
   "metadata": {},
   "outputs": [
    {
     "data": {
      "text/html": [
       "<div>\n",
       "<style scoped>\n",
       "    .dataframe tbody tr th:only-of-type {\n",
       "        vertical-align: middle;\n",
       "    }\n",
       "\n",
       "    .dataframe tbody tr th {\n",
       "        vertical-align: top;\n",
       "    }\n",
       "\n",
       "    .dataframe thead th {\n",
       "        text-align: right;\n",
       "    }\n",
       "</style>\n",
       "<table border=\"1\" class=\"dataframe\">\n",
       "  <thead>\n",
       "    <tr style=\"text-align: right;\">\n",
       "      <th></th>\n",
       "      <th>post_id</th>\n",
       "      <th>time</th>\n",
       "      <th>action</th>\n",
       "      <th>min_time</th>\n",
       "      <th>lifetime</th>\n",
       "    </tr>\n",
       "  </thead>\n",
       "  <tbody>\n",
       "    <tr>\n",
       "      <th>0</th>\n",
       "      <td>2530</td>\n",
       "      <td>2021-11-22 23:23:21</td>\n",
       "      <td>view</td>\n",
       "      <td>2021-11-21 23:40:07</td>\n",
       "      <td>85394.0</td>\n",
       "    </tr>\n",
       "    <tr>\n",
       "      <th>1</th>\n",
       "      <td>2501</td>\n",
       "      <td>2021-11-22 23:23:21</td>\n",
       "      <td>view</td>\n",
       "      <td>2021-11-21 00:00:15</td>\n",
       "      <td>170586.0</td>\n",
       "    </tr>\n",
       "    <tr>\n",
       "      <th>2</th>\n",
       "      <td>2594</td>\n",
       "      <td>2021-11-22 23:23:21</td>\n",
       "      <td>view</td>\n",
       "      <td>2021-11-22 17:03:51</td>\n",
       "      <td>22770.0</td>\n",
       "    </tr>\n",
       "    <tr>\n",
       "      <th>3</th>\n",
       "      <td>2531</td>\n",
       "      <td>2021-11-22 23:23:21</td>\n",
       "      <td>view</td>\n",
       "      <td>2021-11-21 23:18:42</td>\n",
       "      <td>86679.0</td>\n",
       "    </tr>\n",
       "    <tr>\n",
       "      <th>4</th>\n",
       "      <td>2616</td>\n",
       "      <td>2021-11-22 23:23:21</td>\n",
       "      <td>view</td>\n",
       "      <td>2021-11-22 22:45:00</td>\n",
       "      <td>2301.0</td>\n",
       "    </tr>\n",
       "  </tbody>\n",
       "</table>\n",
       "</div>"
      ],
      "text/plain": [
       "   post_id                time action            min_time  lifetime\n",
       "0     2530 2021-11-22 23:23:21   view 2021-11-21 23:40:07   85394.0\n",
       "1     2501 2021-11-22 23:23:21   view 2021-11-21 00:00:15  170586.0\n",
       "2     2594 2021-11-22 23:23:21   view 2021-11-22 17:03:51   22770.0\n",
       "3     2531 2021-11-22 23:23:21   view 2021-11-21 23:18:42   86679.0\n",
       "4     2616 2021-11-22 23:23:21   view 2021-11-22 22:45:00    2301.0"
      ]
     },
     "execution_count": 9,
     "metadata": {},
     "output_type": "execute_result"
    }
   ],
   "source": [
    "df_unique_post.head()"
   ]
  },
  {
   "cell_type": "markdown",
   "id": "93c1d812-8444-4cd1-afaa-aba0ac1a03fb",
   "metadata": {},
   "source": [
    "визуализируем"
   ]
  },
  {
   "cell_type": "code",
   "execution_count": 10,
   "id": "8d90a567-b749-4712-a74c-5acc7946faa5",
   "metadata": {},
   "outputs": [
    {
     "data": {
      "text/plain": [
       "array([[<AxesSubplot:title={'center':'lifetime'}>]], dtype=object)"
      ]
     },
     "execution_count": 10,
     "metadata": {},
     "output_type": "execute_result"
    },
    {
     "data": {
      "image/png": "[encoded data removed]",
      "text/plain": [
       "<Figure size 432x288 with 1 Axes>"
      ]
     },
     "metadata": {
      "needs_background": "light"
     },
     "output_type": "display_data"
    }
   ],
   "source": [
    "df_unique_post.hist('lifetime')"
   ]
  },
  {
   "cell_type": "code",
   "execution_count": null,
   "id": "e93605cf-4a55-4d30-a47a-7c9b2ca34be5",
   "metadata": {},
   "outputs": [],
   "source": []
  }
 ],
 "metadata": {
  "kernelspec": {
   "display_name": "Python 3 (ipykernel)",
   "language": "python",
   "name": "python3"
  },
  "language_info": {
   "codemirror_mode": {
    "name": "ipython",
    "version": 3
   },
   "file_extension": ".py",
   "mimetype": "text/x-python",
   "name": "python",
   "nbconvert_exporter": "python",
   "pygments_lexer": "ipython3",
   "version": "3.8.10"
  }
 },
 "nbformat": 4,
 "nbformat_minor": 5
}
