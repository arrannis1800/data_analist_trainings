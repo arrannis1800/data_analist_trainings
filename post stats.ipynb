{
 "cells": [
  {
   "cell_type": "code",
   "execution_count": null,
   "id": "f0fe3084-4bff-40bd-adcb-5a0824e0d92b",
   "metadata": {},
   "outputs": [],
   "source": [
    "import pandas as np\n",
    "import pandahouse as ph\n",
    "import statsmodels.api as sm\n",
    "import numpy as np\n",
    "import matplotlib.pyplot as plt\n",
    "from statsmodels.graphics.gofplots import qqplot_2samples\n",
    "from scipy import stats\n",
    "import seaborn as sns"
   ]
  },
  {
   "cell_type": "markdown",
   "id": "5a75d3c9-403b-4403-9cb7-4d3c818765c4",
   "metadata": {},
   "source": [
    "присоединяемся к базе данных и отправляем запрос"
   ]
  },
  {
   "cell_type": "code",
   "execution_count": null,
   "id": "f42f00ff-1298-4c90-86e4-39731b8691a0",
   "metadata": {
    "tags": []
   },
   "outputs": [],
   "source": [
    "connection = {'host': 'http://clickhouse.beslan.pro:8080',\n",
    "                      'database':'simulator',\n",
    "                      'user':'student', \n",
    "                      'password':'dpo_python_2020'\n",
    "                     }"
   ]
  },
  {
   "cell_type": "code",
   "execution_count": null,
   "id": "4788733f-d586-48fe-a0aa-f3e3009709ee",
   "metadata": {},
   "outputs": [],
   "source": [
    "query = '''\n",
    "SELECT post_id,\n",
    "       time,\n",
    "       user_id,\n",
    "       action\n",
    "FROM {db}.feed_actions\n",
    "WHERE (toDate(time) > today()-7) and action = 'view'\n",
    "'''"
   ]
  },
  {
   "cell_type": "code",
   "execution_count": null,
   "id": "9d80d9d9-1342-4554-81cc-c2f05f1b8142",
   "metadata": {},
   "outputs": [],
   "source": [
    "df = ph.read_clickhouse(query, connection=connection)\n",
    "df"
   ]
  },
  {
   "cell_type": "markdown",
   "id": "b7d45aa5-45d5-410a-b68f-6dc8ce4a0e44",
   "metadata": {},
   "source": [
    "создаем новую табличку только с нужными нам полями"
   ]
  },
  {
   "cell_type": "code",
   "execution_count": null,
   "id": "5ea8c623-68e8-439b-98e7-ab88f39c2861",
   "metadata": {},
   "outputs": [],
   "source": [
    "df_unique_post = df[['post_id','time','action']]"
   ]
  },
  {
   "cell_type": "markdown",
   "id": "a2850e37-9594-433f-b31c-04de7c588b05",
   "metadata": {},
   "source": [
    "добавляем колонку с временем, когда пост появился первый раз"
   ]
  },
  {
   "cell_type": "code",
   "execution_count": null,
   "id": "aaad8c0b-4310-4823-9e1f-066eb1b78585",
   "metadata": {},
   "outputs": [],
   "source": [
    "df_unique_post = df_unique_post.merge(df_unique_post.groupby('post_id', as_index=False)\\\n",
    "                                      .min().drop('action', axis=1),left_on='post_id', right_on='post_id',how='left')\\\n",
    "                                        .rename(columns={'time_x':'time','time_y':'min_time'})"
   ]
  },
  {
   "cell_type": "code",
   "execution_count": null,
   "id": "39ed5d20-595b-41e2-a8cf-c81dedf9c9a3",
   "metadata": {},
   "outputs": [],
   "source": [
    "df_unique_post.head()"
   ]
  },
  {
   "cell_type": "markdown",
   "id": "886a4f65-69ea-4102-a11a-394a454e4185",
   "metadata": {},
   "source": [
    "переводим дельтатайм в секунды"
   ]
  },
  {
   "cell_type": "code",
   "execution_count": null,
   "id": "a8d29279-096a-4eda-a156-cc228a5398fd",
   "metadata": {},
   "outputs": [],
   "source": [
    "df_unique_post['lifetime'] = (df_unique_post.time - df_unique_post.min_time).apply(lambda x: x.total_seconds())"
   ]
  },
  {
   "cell_type": "code",
   "execution_count": null,
   "id": "c34b868e-25a4-4dd0-9e32-e9563175ceee",
   "metadata": {},
   "outputs": [],
   "source": [
    "df_unique_post.head()"
   ]
  },
  {
   "cell_type": "markdown",
   "id": "93c1d812-8444-4cd1-afaa-aba0ac1a03fb",
   "metadata": {},
   "source": [
    "визуализируем"
   ]
  },
  {
   "cell_type": "code",
   "execution_count": null,
   "id": "8d90a567-b749-4712-a74c-5acc7946faa5",
   "metadata": {},
   "outputs": [],
   "source": [
    "df_unique_post.hist('lifetime')"
   ]
  },
  {
   "cell_type": "code",
   "execution_count": null,
   "id": "e93605cf-4a55-4d30-a47a-7c9b2ca34be5",
   "metadata": {},
   "outputs": [],
   "source": []
  }
 ],
 "metadata": {
  "kernelspec": {
   "display_name": "Python 3 (ipykernel)",
   "language": "python",
   "name": "python3"
  },
  "language_info": {
   "codemirror_mode": {
    "name": "ipython",
    "version": 3
   },
   "file_extension": ".py",
   "mimetype": "text/x-python",
   "name": "python",
   "nbconvert_exporter": "python",
   "pygments_lexer": "ipython3",
   "version": "3.8.10"
  }
 },
 "nbformat": 4,
 "nbformat_minor": 5
}
