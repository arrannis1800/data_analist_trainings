{
 "cells": [
  {
   "cell_type": "code",
   "execution_count": 10,
   "id": "f0fe3084-4bff-40bd-adcb-5a0824e0d92b",
   "metadata": {},
   "outputs": [],
   "source": [
    "import pandas as pd\n",
    "import pandahouse as ph\n",
    "import seaborn as sns\n",
    "import numpy as np\n",
    "import datetime\n",
    "import io\n",
    "import telegram\n",
    "import matplotlib.pyplot as plt\n",
    "sns.set(rc={'figure.figsize':(16.00,9.00)})"
   ]
  },
  {
   "cell_type": "code",
   "execution_count": 2,
   "id": "8b3ff4a5-00a9-4614-aa63-a319684d088a",
   "metadata": {},
   "outputs": [],
   "source": [
    "# Настройки бота\n",
    "bot = telegram.Bot(token='######')\n",
    "# куда отправляем данные\n",
    "chat_id = ######"
   ]
  },
  {
   "cell_type": "markdown",
   "id": "5a75d3c9-403b-4403-9cb7-4d3c818765c4",
   "metadata": {},
   "source": [
    "присоединяемся к базам данных и отправляем запросы"
   ]
  },
  {
   "cell_type": "code",
   "execution_count": 5,
   "id": "f42f00ff-1298-4c90-86e4-39731b8691a0",
   "metadata": {
    "tags": []
   },
   "outputs": [],
   "source": [
    "\n",
    "connection = {\n",
    "    'host': '#####',\n",
    "    'password': 'dpo_python_2020',\n",
    "    'user': 'student',\n",
    "    'database': 'simulator'\n",
    "}"
   ]
  },
  {
   "cell_type": "code",
   "execution_count": 11,
   "id": "4788733f-d586-48fe-a0aa-f3e3009709ee",
   "metadata": {},
   "outputs": [],
   "source": [
    "quan_std = 2.5\n",
    "\n",
    "query = '''select toTime(time) as time, post_users,views,likes,CTR,messages,mess_users\n",
    "from (select toStartOfFifteenMinutes(time) as time, \n",
    "        count(distinct user_id) as post_users, \n",
    "        countIf(action = 'view') as views, \n",
    "        countIf(action = 'like') as likes, \n",
    "        round((countIf(action = 'like')/countIf(action = 'view')*100),1) as CTR\n",
    "from simulator.feed_actions\n",
    "where time > today()\n",
    "group by time\n",
    "order by time) as t1\n",
    "full outer join \n",
    "(select toTime(time) as time, messages,mess_users\n",
    "from (select toStartOfFifteenMinutes(time) as time, \n",
    "        count(reciever_id) as messages, \n",
    "        count(distinct user_id) as mess_users\n",
    "from simulator.message_actions\n",
    "where time > today()\n",
    "group by time\n",
    "order by time\n",
    "\n",
    ")) as t2\n",
    "using time\n",
    "'''\n",
    "query_std =f'''select toTime(time) as time,anyLast(post_users) as yd_post_users, avg(post_users)-{quan_std}*stddevSamp(post_users) as low_post_users,avg(post_users)+{quan_std}*stddevSamp(post_users) as high_post_users,\n",
    "    anyLast(views) as yd_views, avg(views)-{quan_std}*stddevSamp(views) as low_views,avg(views)+{quan_std}*stddevSamp(views) as high_views,\n",
    "    anyLast(likes) as yd_likes, avg(likes)-{quan_std}*stddevSamp(likes) as low_likes,avg(likes)+{quan_std}*stddevSamp(likes) as high_likes,\n",
    "    anyLast(CTR) as yd_CTR, avg(CTR)-{quan_std}*stddevSamp(CTR) as low_CTR,avg(CTR)+{quan_std}*stddevSamp(CTR) as high_CTR,\n",
    "    anyLast(mess_users) as yd_mess_users, avg(mess_users)-{quan_std}*stddevSamp(mess_users) as low_mess_users,avg(mess_users)+{quan_std}*stddevSamp(mess_users) as high_mess_users,\n",
    "    anyLast(messages) as yd_messages, avg(messages)-{quan_std}*stddevSamp(messages) as low_messages,avg(messages)+{quan_std}*stddevSamp(messages) as high_messages\n",
    "from (select * from\n",
    "(select toStartOfFifteenMinutes(time) as time, uniqExact(user_id) as post_users, countIf(action='view' ) as views,countIf(action='like' ) as likes,round(likes/views*100,2)as CTR\n",
    "from simulator.feed_actions\n",
    "where time >= today()-7 and toTime(time) <= toTime(now()-900) and time < today()\n",
    "group by time) as T1\n",
    "left join\n",
    "(select uniqExact(user_id) as mess_users, toStartOfFifteenMinutes(time) as time, count(user_id) as messages\n",
    "from simulator.message_actions\n",
    "where time >= today()-7 and toTime(time) <= toTime(now()-900) and time < today()\n",
    "group by time) as T2\n",
    "using time\n",
    "order by toTime(time), toDate(time) asc)\n",
    "group by time\n",
    "order by time asc'''"
   ]
  },
  {
   "cell_type": "code",
   "execution_count": 12,
   "id": "9d80d9d9-1342-4554-81cc-c2f05f1b8142",
   "metadata": {},
   "outputs": [],
   "source": [
    "df = ph.read_clickhouse(query, connection=connection, index_col='time')\n",
    "df_std = ph.read_clickhouse(query_std, connection=connection, index_col='time')"
   ]
  },
  {
   "cell_type": "markdown",
   "id": "741d53ea-df62-41a7-9772-c3e4d1400994",
   "metadata": {},
   "source": [
    "Функция проверки данных на откланение от доверительного интервала "
   ]
  },
  {
   "cell_type": "code",
   "execution_count": 15,
   "id": "f6ceb10f-4d42-4093-8869-30f3d5ed4eae",
   "metadata": {},
   "outputs": [],
   "source": [
    "def std(df,graph):\n",
    "    if df.iloc[-2] > graph.iloc[:, 2].iloc[-1] or df.iloc[-2] < graph.iloc[:, 1].iloc[-1]:\n",
    "\n",
    "\n",
    "        sns.lineplot(data=df[0:-1], color='orange')\n",
    "        sns.lineplot(data=graph.iloc[:, 0],linestyle=\"dashed\")\n",
    "        plt.fill_between(x=graph.index, y1=graph.iloc[:, 1], y2=graph.iloc[:, 2], alpha=0.2)\n",
    "        plt.title('Alert')\n",
    "        alert_plot = io.BytesIO()\n",
    "        plt.tight_layout()\n",
    "        plt.savefig(alert_plot)\n",
    "        alert_plot.name = 'Alert_plot.png'\n",
    "        alert_plot.seek(0)\n",
    "        plt.close()\n",
    "\n",
    "\n",
    "        if df.name == 'post_users':\n",
    "            chart = 'http://superset.lab.karpov.courses/r/193'\n",
    "            met='Пользователи ленты'\n",
    "        elif df.name == 'views':\n",
    "            chart = 'http://superset.lab.karpov.courses/r/194'\n",
    "            met='Просмотры ленты'\n",
    "        elif df.name == 'likes':\n",
    "            chart = 'http://superset.lab.karpov.courses/r/195'\n",
    "            met='Лайки ленты'\n",
    "        elif df.name == 'CTR':\n",
    "            chart = 'http://superset.lab.karpov.courses/r/196'\n",
    "            met='CTR ленты'\n",
    "        elif df.name == 'mess_users':\n",
    "            chart = 'http://superset.lab.karpov.courses/r/197'\n",
    "            met='Пользователи сообщений'\n",
    "        elif df.name == 'messages':\n",
    "            chart = 'http://superset.lab.karpov.courses/r/198'\n",
    "            met='Количество сообщений'\n",
    "        else:\n",
    "            chart = \"https://superset.lab.karpov.courses/superset/dashboard/82/\"\n",
    "            met='Метрика'\n",
    "\n",
    "        bot.sendPhoto(chat_id=chat_id,photo=alert_plot,parse_mode ='HTML', \n",
    "                      caption=f'''<b><u>{met}</u></b> в <b><u>{df.index[-1].strftime('%H:%M')}</u></b>.\n",
    "\n",
    "Текущее значение <b><u>{df.iloc[-1]}</u></b>. Отклонение более <b><u>{round((df.iloc[-1]-df[0:-1].mean())/df[0:-1].mean()*100,1)}%</u></b>.\n",
    "Глянь <a href=\"{chart}\">на график</a> и <a href=\"https://superset.lab.karpov.courses/superset/dashboard/82/\">в дашборд</a>''')"
   ]
  },
  {
   "cell_type": "code",
   "execution_count": 14,
   "id": "5efcf871-f611-4f6f-84f9-2b9b205a38b6",
   "metadata": {},
   "outputs": [],
   "source": [
    "# проверка каждой метрики\n",
    "std(df.post_users,df_std[['yd_post_users','low_post_users','high_post_users']])\n",
    "std(df.likes,df_std[['yd_likes','low_likes','high_likes']])\n",
    "std(df.views,df_std[['yd_views','low_views','high_views']])\n",
    "std(df.CTR,df_std[['yd_CTR','low_CTR','high_CTR']])\n",
    "std(df.mess_users,df_std[['yd_mess_users','low_mess_users','high_mess_users']])\n",
    "std(df.messages,df_std[['yd_messages','low_messages','high_messages']])"
   ]
  },
  {
   "cell_type": "code",
   "execution_count": null,
   "id": "88733369-cc25-40b3-90ee-d18ed21c605f",
   "metadata": {},
   "outputs": [],
   "source": []
  }
 ],
 "metadata": {
  "kernelspec": {
   "display_name": "Python 3 (ipykernel)",
   "language": "python",
   "name": "python3"
  },
  "language_info": {
   "codemirror_mode": {
    "name": "ipython",
    "version": 3
   },
   "file_extension": ".py",
   "mimetype": "text/x-python",
   "name": "python",
   "nbconvert_exporter": "python",
   "pygments_lexer": "ipython3",
   "version": "3.8.10"
  }
 },
 "nbformat": 4,
 "nbformat_minor": 5
}
