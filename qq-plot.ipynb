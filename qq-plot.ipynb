{
 "cells": [
  {
   "cell_type": "code",
   "execution_count": 16,
   "id": "f0fe3084-4bff-40bd-adcb-5a0824e0d92b",
   "metadata": {},
   "outputs": [],
   "source": [
    "import pandas as np\n",
    "import pandahouse as ph\n",
    "import statsmodels.api as sm\n",
    "import numpy as np\n",
    "import matplotlib.pyplot as plt\n",
    "from statsmodels.graphics.gofplots import qqplot_2samples\n",
    "from scipy import stats"
   ]
  },
  {
   "cell_type": "code",
   "execution_count": 2,
   "id": "f42f00ff-1298-4c90-86e4-39731b8691a0",
   "metadata": {
    "tags": []
   },
   "outputs": [],
   "source": [
    "connection = {'host': 'http://clickhouse.beslan.pro:8080',\n",
    "                      'database':'simulator',\n",
    "                      'user':'student', \n",
    "                      'password':'dpo_python_2020'\n",
    "                     }"
   ]
  },
  {
   "cell_type": "code",
   "execution_count": 12,
   "id": "4788733f-d586-48fe-a0aa-f3e3009709ee",
   "metadata": {},
   "outputs": [],
   "source": [
    "query = '''\n",
    "select post_id,\n",
    "       countIf(action = 'view') AS views,\n",
    "       countIf(action = 'like') as likes\n",
    "from {db}.feed_actions \n",
    "group by post_id\n",
    "limit 10000\n",
    "'''"
   ]
  },
  {
   "cell_type": "code",
   "execution_count": 13,
   "id": "9d80d9d9-1342-4554-81cc-c2f05f1b8142",
   "metadata": {},
   "outputs": [
    {
     "data": {
      "text/html": [
       "<div>\n",
       "<style scoped>\n",
       "    .dataframe tbody tr th:only-of-type {\n",
       "        vertical-align: middle;\n",
       "    }\n",
       "\n",
       "    .dataframe tbody tr th {\n",
       "        vertical-align: top;\n",
       "    }\n",
       "\n",
       "    .dataframe thead th {\n",
       "        text-align: right;\n",
       "    }\n",
       "</style>\n",
       "<table border=\"1\" class=\"dataframe\">\n",
       "  <thead>\n",
       "    <tr style=\"text-align: right;\">\n",
       "      <th></th>\n",
       "      <th>post_id</th>\n",
       "      <th>views</th>\n",
       "      <th>likes</th>\n",
       "    </tr>\n",
       "  </thead>\n",
       "  <tbody>\n",
       "    <tr>\n",
       "      <th>0</th>\n",
       "      <td>0</td>\n",
       "      <td>213</td>\n",
       "      <td>15</td>\n",
       "    </tr>\n",
       "    <tr>\n",
       "      <th>1</th>\n",
       "      <td>610</td>\n",
       "      <td>362</td>\n",
       "      <td>44</td>\n",
       "    </tr>\n",
       "    <tr>\n",
       "      <th>2</th>\n",
       "      <td>948</td>\n",
       "      <td>61</td>\n",
       "      <td>3</td>\n",
       "    </tr>\n",
       "    <tr>\n",
       "      <th>3</th>\n",
       "      <td>774</td>\n",
       "      <td>1368</td>\n",
       "      <td>159</td>\n",
       "    </tr>\n",
       "    <tr>\n",
       "      <th>4</th>\n",
       "      <td>462</td>\n",
       "      <td>3546</td>\n",
       "      <td>605</td>\n",
       "    </tr>\n",
       "    <tr>\n",
       "      <th>...</th>\n",
       "      <td>...</td>\n",
       "      <td>...</td>\n",
       "      <td>...</td>\n",
       "    </tr>\n",
       "    <tr>\n",
       "      <th>2660</th>\n",
       "      <td>2462</td>\n",
       "      <td>1083</td>\n",
       "      <td>112</td>\n",
       "    </tr>\n",
       "    <tr>\n",
       "      <th>2661</th>\n",
       "      <td>2298</td>\n",
       "      <td>3180</td>\n",
       "      <td>421</td>\n",
       "    </tr>\n",
       "    <tr>\n",
       "      <th>2662</th>\n",
       "      <td>2120</td>\n",
       "      <td>2239</td>\n",
       "      <td>263</td>\n",
       "    </tr>\n",
       "    <tr>\n",
       "      <th>2663</th>\n",
       "      <td>2688</td>\n",
       "      <td>3956</td>\n",
       "      <td>589</td>\n",
       "    </tr>\n",
       "    <tr>\n",
       "      <th>2664</th>\n",
       "      <td>2610</td>\n",
       "      <td>1092</td>\n",
       "      <td>99</td>\n",
       "    </tr>\n",
       "  </tbody>\n",
       "</table>\n",
       "<p>2665 rows × 3 columns</p>\n",
       "</div>"
      ],
      "text/plain": [
       "      post_id  views  likes\n",
       "0           0    213     15\n",
       "1         610    362     44\n",
       "2         948     61      3\n",
       "3         774   1368    159\n",
       "4         462   3546    605\n",
       "...       ...    ...    ...\n",
       "2660     2462   1083    112\n",
       "2661     2298   3180    421\n",
       "2662     2120   2239    263\n",
       "2663     2688   3956    589\n",
       "2664     2610   1092     99\n",
       "\n",
       "[2665 rows x 3 columns]"
      ]
     },
     "execution_count": 13,
     "metadata": {},
     "output_type": "execute_result"
    }
   ],
   "source": [
    "df = ph.read_clickhouse(query, connection=connection)\n",
    "df"
   ]
  },
  {
   "cell_type": "code",
   "execution_count": 14,
   "id": "961ae35c-52fd-4ae2-808d-36bb321b38e0",
   "metadata": {},
   "outputs": [
    {
     "data": {
      "text/plain": [
       "990.9196998123828"
      ]
     },
     "execution_count": 14,
     "metadata": {},
     "output_type": "execute_result"
    }
   ],
   "source": [
    "df.likes.mean()"
   ]
  },
  {
   "cell_type": "code",
   "execution_count": 15,
   "id": "fd5c6641-3204-4ad9-bf19-9eff65d9626b",
   "metadata": {},
   "outputs": [
    {
     "data": {
      "text/plain": [
       "212.0"
      ]
     },
     "execution_count": 15,
     "metadata": {},
     "output_type": "execute_result"
    }
   ],
   "source": [
    "df.likes.median()"
   ]
  },
  {
   "cell_type": "code",
   "execution_count": 31,
   "id": "cee1cf77-d0c0-4314-84af-8763d494c0af",
   "metadata": {},
   "outputs": [],
   "source": [
    "df['views_z'] = stats.zscore(df['views'])\n",
    "df['likes_z'] = stats.zscore(df['likes'])"
   ]
  },
  {
   "cell_type": "code",
   "execution_count": 29,
   "id": "416122b2-fe34-4b04-94fc-771bd097ce55",
   "metadata": {},
   "outputs": [
    {
     "data": {
      "text/plain": [
       "<AxesSubplot:>"
      ]
     },
     "execution_count": 29,
     "metadata": {},
     "output_type": "execute_result"
    },
    {
     "data": {
      "image/png": "[encoded data removed]",
      "text/plain": [
       "<Figure size 432x288 with 1 Axes>"
      ]
     },
     "metadata": {
      "needs_background": "light"
     },
     "output_type": "display_data"
    }
   ],
   "source": [
    "df.views_z.hist()"
   ]
  },
  {
   "cell_type": "code",
   "execution_count": 30,
   "id": "3c9520d8-a535-4bc5-82fc-27ad83809a94",
   "metadata": {},
   "outputs": [
    {
     "data": {
      "text/plain": [
       "<AxesSubplot:>"
      ]
     },
     "execution_count": 30,
     "metadata": {},
     "output_type": "execute_result"
    },
    {
     "data": {
      "image/png": "[encoded data removed]",
      "text/plain": [
       "<Figure size 432x288 with 1 Axes>"
      ]
     },
     "metadata": {
      "needs_background": "light"
     },
     "output_type": "display_data"
    }
   ],
   "source": [
    "df.likes_z.hist()"
   ]
  },
  {
   "cell_type": "code",
   "execution_count": 22,
   "id": "0206073d-6a73-4b6a-a065-7fae03309b51",
   "metadata": {},
   "outputs": [
    {
     "name": "stderr",
     "output_type": "stream",
     "text": [
      "/nfs/env/lib/python3.8/site-packages/statsmodels/graphics/gofplots.py:993: UserWarning: marker is redundantly defined by the 'marker' keyword argument and the fmt string \"bo\" (-> marker='o'). The keyword argument will take precedence.\n",
      "  ax.plot(x, y, fmt, **plot_style)\n"
     ]
    },
    {
     "data": {
      "image/png": "[encoded data removed]",
      "text/plain": [
       "<Figure size 432x288 with 1 Axes>"
      ]
     },
     "metadata": {
      "needs_background": "light"
     },
     "output_type": "display_data"
    }
   ],
   "source": [
    "fig = qqplot_2samples(df.views_z, df.likes_z, xlabel=None, ylabel=None,line='45', ax=None)\n",
    "fig.show()"
   ]
  },
  {
   "cell_type": "code",
   "execution_count": null,
   "id": "5d17ccb6-1b8b-483a-bfde-1be7d257826b",
   "metadata": {},
   "outputs": [],
   "source": []
  }
 ],
 "metadata": {
  "kernelspec": {
   "display_name": "Python 3 (ipykernel)",
   "language": "python",
   "name": "python3"
  },
  "language_info": {
   "codemirror_mode": {
    "name": "ipython",
    "version": 3
   },
   "file_extension": ".py",
   "mimetype": "text/x-python",
   "name": "python",
   "nbconvert_exporter": "python",
   "pygments_lexer": "ipython3",
   "version": "3.8.10"
  }
 },
 "nbformat": 4,
 "nbformat_minor": 5
}
