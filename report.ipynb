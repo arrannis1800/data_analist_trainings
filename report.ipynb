{
 "cells": [
  {
   "cell_type": "markdown",
   "id": "d1bd5e32-15a2-480a-98e3-2d072835bbfc",
   "metadata": {},
   "source": [
    "Импорт библиотек"
   ]
  },
  {
   "cell_type": "code",
   "execution_count": 1,
   "id": "60d5d761-fff7-4f32-ba28-500be3220cf7",
   "metadata": {},
   "outputs": [],
   "source": [
    "import pandas as pd\n",
    "import pandahouse as ph\n",
    "import seaborn as sns\n",
    "import numpy as np\n",
    "import datetime\n",
    "import io\n",
    "import telegram\n",
    "import matplotlib.pyplot as plt\n"
   ]
  },
  {
   "cell_type": "code",
   "execution_count": 2,
   "id": "e1df3c2f-0318-47a4-8929-6aab31573f0e",
   "metadata": {},
   "outputs": [],
   "source": [
    "# настраиваем бота\n",
    "bot = telegram.Bot(token='########')\n",
    "chat_id = ######"
   ]
  },
  {
   "cell_type": "markdown",
   "id": "30696db0-13f2-45b6-a031-b35bf9bffde1",
   "metadata": {},
   "source": [
    "отправляем запрос в базу данных"
   ]
  },
  {
   "cell_type": "code",
   "execution_count": 4,
   "id": "ada9db9f-7f10-47fc-bfcb-edab07a649fd",
   "metadata": {},
   "outputs": [],
   "source": [
    "connection = {\n",
    "    'host': '######',\n",
    "    'password': '#####',\n",
    "    'user': '######',\n",
    "    'database': '#####'\n",
    "}"
   ]
  },
  {
   "cell_type": "code",
   "execution_count": 5,
   "id": "3cc6610b-1261-488d-a3a9-9a768e4837c8",
   "metadata": {},
   "outputs": [],
   "source": [
    "query = '''\n",
    "SELECT *\n",
    "FROM\n",
    "  (SELECT *\n",
    "   FROM\n",
    "     (SELECT toDate(time) AS day,\n",
    "             uniqExact(user_id) AS DAU,\n",
    "             countIf(action='like') AS likes,\n",
    "             countIf(action='view') AS views,\n",
    "             round(likes/views*100, 2) AS CTR\n",
    "      FROM simulator.feed_actions\n",
    "      WHERE day > today()-7\n",
    "        AND day < today()\n",
    "      GROUP BY day\n",
    "      ORDER BY day) AS posts\n",
    "   FULL JOIN\n",
    "     (SELECT toDate(T2.t) AS day,\n",
    "             round(T2.users/T1.MAU*100, 2) AS Stickiness\n",
    "      FROM\n",
    "        (SELECT date_,\n",
    "                uniqExact(user_id) AS MAU\n",
    "         FROM\n",
    "           (SELECT date_ + n AS date_,\n",
    "                   user_id\n",
    "            FROM\n",
    "              (SELECT user_id,\n",
    "                      toDate(time) AS date_\n",
    "               FROM simulator.feed_actions) array\n",
    "            JOIN range(30) AS n)\n",
    "         WHERE date_ <= today()\n",
    "         GROUP BY date_) AS T1\n",
    "      LEFT JOIN\n",
    "        (SELECT toStartOfDay(toDate(time)) AS t,\n",
    "                count(DISTINCT user_id) AS users\n",
    "         FROM simulator.feed_actions\n",
    "         GROUP BY t) AS T2 ON T2.t = T1.date_\n",
    "      WHERE day > today()-7\n",
    "        AND day < today()) AS Stickiness USING day) AS post\n",
    "FULL JOIN\n",
    "  (SELECT *\n",
    "   FROM\n",
    "     (SELECT toDate(time) AS day,\n",
    "             uniqExact(user_id) AS mess_DAU\n",
    "      FROM simulator.message_actions\n",
    "      WHERE day > today()-7\n",
    "        AND day < today()\n",
    "      GROUP BY day) AS mess1\n",
    "   FULL JOIN\n",
    "     (SELECT toDate(day) AS day,\n",
    "             sum(unique_chats) AS unique_chats\n",
    "      FROM\n",
    "        (SELECT user_id,\n",
    "                count(DISTINCT reciever_id) AS unique_chats,\n",
    "                toStartOfDay(time) AS day\n",
    "         FROM simulator.message_actions\n",
    "         WHERE day > today()-7\n",
    "            AND day < today()   \n",
    "         GROUP BY user_id,\n",
    "                  day)\n",
    "      GROUP BY day\n",
    "      ORDER BY day) AS mess2 USING day) AS mess USING day\n",
    "      '''"
   ]
  },
  {
   "cell_type": "code",
   "execution_count": 11,
   "id": "cc5cc84c-0b26-4377-a396-731aaa4e5201",
   "metadata": {},
   "outputs": [],
   "source": [
    "df = ph.read_clickhouse(query, connection=connection)"
   ]
  },
  {
   "cell_type": "code",
   "execution_count": 7,
   "id": "387b162c-bdcc-47e4-a992-c654c466456a",
   "metadata": {},
   "outputs": [],
   "source": [
    "# собираем данные за вчера\n",
    "YD_DAU = round(df.DAU.iloc[-1] / 1000,2)\n",
    "YD_Stickiness = round(df.Stickiness.iloc[-1])\n",
    "YD_views = round(df.views.iloc[-1] / 1000,2)\n",
    "YD_likes = round(df.likes.iloc[-1] / 1000,2)\n",
    "YD_CTR = round(df.CTR.iloc[-1])\n"
   ]
  },
  {
   "cell_type": "code",
   "execution_count": 8,
   "id": "eadf617c-a953-4127-a1fd-4a13cd5561e0",
   "metadata": {},
   "outputs": [
    {
     "data": {
      "text/plain": [
       "<telegram.message.Message at 0x7f32e02d1c40>"
      ]
     },
     "execution_count": 8,
     "metadata": {},
     "output_type": "execute_result"
    }
   ],
   "source": [
    "# рисуем графики\n",
    "sns.set(rc={'figure.figsize':(15.00,20.00)})\n",
    "fig, axs = plt.subplots(5,1)\n",
    "sns.lineplot(x='day', y='DAU', data=df, ax=axs[0])\n",
    "sns.lineplot(x='day', y='Stickiness', data=df, ax=axs[1])\n",
    "sns.lineplot(x='day',y='views', data=df, ax=axs[2])\n",
    "sns.lineplot(x='day', y='likes', data=df, ax=axs[3])\n",
    "sns.lineplot(x='day',y='CTR', data=df, ax=axs[4])\n",
    "post_plot = io.BytesIO()\n",
    "plt.tight_layout()\n",
    "plt.savefig(post_plot)\n",
    "post_plot.name = 'post_plot.png'\n",
    "post_plot.seek(0)\n",
    "plt.close()\n",
    "\n",
    "# отправляем изображение графика и подпись\n",
    "bot.sendPhoto(chat_id=chat_id, photo=post_plot, caption=f'''Отчеты по Ленте\n",
    "\n",
    "За вчера \n",
    "DAU: {YD_DAU}k\n",
    "Sticky factor: {YD_Stickiness}%\n",
    "Просмотры: {YD_views}k\n",
    "Лайки: {YD_likes}k\n",
    "CTR: {YD_CTR}%:''')"
   ]
  },
  {
   "cell_type": "code",
   "execution_count": 9,
   "id": "08e35a87-1ada-4013-8079-4f2df994b57b",
   "metadata": {},
   "outputs": [],
   "source": [
    "# собираем данные за вчера\n",
    "YD_mess_DAU = round(df.mess_DAU.iloc[-1] / 1000,2)\n",
    "YD_mess_unique = round(df.unique_chats.iloc[-1] / 1000,2)"
   ]
  },
  {
   "cell_type": "code",
   "execution_count": 10,
   "id": "65865c02-93f2-45f1-b286-20ddd2c09d7a",
   "metadata": {},
   "outputs": [
    {
     "data": {
      "text/plain": [
       "<telegram.message.Message at 0x7f32e0878640>"
      ]
     },
     "execution_count": 10,
     "metadata": {},
     "output_type": "execute_result"
    }
   ],
   "source": [
    "# рисуем графики\n",
    "sns.set(rc={'figure.figsize':(7.50,10.00)})\n",
    "fig, axs = plt.subplots(2,1)\n",
    "sns.lineplot(x='day', y='mess_DAU', data=df, ax=axs[0])\n",
    "sns.lineplot(x='day', y='unique_chats', data=df, ax=axs[1])\n",
    "mess_plot = io.BytesIO()\n",
    "plt.tight_layout()\n",
    "plt.savefig(mess_plot)\n",
    "mess_plot.name = 'mess_plot.png'\n",
    "mess_plot.seek(0)\n",
    "plt.close()\n",
    "\n",
    "# отправляем изображение графика и подпись\n",
    "bot.sendPhoto(chat_id=chat_id, photo=mess_plot, caption=f'''Отчеты по Мессенджеру\n",
    "\n",
    "\n",
    "За вчера \n",
    "DAU: {YD_mess_DAU}k\n",
    "Уникальных чатов: {YD_mess_unique}k''')"
   ]
  },
  {
   "cell_type": "code",
   "execution_count": null,
   "id": "5bdd6587-60ef-4dce-b447-d714c4920c16",
   "metadata": {},
   "outputs": [],
   "source": []
  }
 ],
 "metadata": {
  "kernelspec": {
   "display_name": "Python 3 (ipykernel)",
   "language": "python",
   "name": "python3"
  },
  "language_info": {
   "codemirror_mode": {
    "name": "ipython",
    "version": 3
   },
   "file_extension": ".py",
   "mimetype": "text/x-python",
   "name": "python",
   "nbconvert_exporter": "python",
   "pygments_lexer": "ipython3",
   "version": "3.8.10"
  }
 },
 "nbformat": 4,
 "nbformat_minor": 5
}
